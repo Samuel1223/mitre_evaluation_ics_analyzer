{
  "nbformat": 4,
  "nbformat_minor": 0,
  "metadata": {
    "colab": {
      "name": "plotings.ipynb",
      "provenance": [],
      "authorship_tag": "ABX9TyM1II4LUWd2Qk4All2k9M2g",
      "include_colab_link": true
    },
    "kernelspec": {
      "name": "python3",
      "display_name": "Python 3"
    },
    "language_info": {
      "name": "python"
    }
  },
  "cells": [
    {
      "cell_type": "markdown",
      "metadata": {
        "id": "view-in-github",
        "colab_type": "text"
      },
      "source": [
        "<a href=\"https://colab.research.google.com/github/samsyuu/mitre_evaluation_ics_analyzer/blob/main/plotings.ipynb\" target=\"_parent\"><img src=\"https://colab.research.google.com/assets/colab-badge.svg\" alt=\"Open In Colab\"/></a>"
      ]
    },
    {
      "cell_type": "code",
      "metadata": {
        "colab": {
          "base_uri": "https://localhost:8080/"
        },
        "id": "27VFO6KOny2t",
        "outputId": "2df1ca1d-1fad-46f5-a1fe-64acb781a855"
      },
      "source": [
        "from google.colab import drive\n",
        "drive.mount('/content/drive')"
      ],
      "execution_count": 1,
      "outputs": [
        {
          "output_type": "stream",
          "text": [
            "Mounted at /content/drive\n"
          ],
          "name": "stdout"
        }
      ]
    },
    {
      "cell_type": "markdown",
      "metadata": {
        "id": "rr0J7BGQXYLa"
      },
      "source": [
        "## 測試資料\n"
      ]
    },
    {
      "cell_type": "markdown",
      "metadata": {
        "id": "e46sIfZtEz7K"
      },
      "source": [
        "## main parsing"
      ]
    },
    {
      "cell_type": "code",
      "metadata": {
        "id": "BmNtoubPlrEu"
      },
      "source": [
        "class parsing_json_():\n",
        "  \n",
        "  \n",
        "  # Author: Samuel Yu <samueltoyu@gmail.com>\n",
        "\n",
        "  \n",
        "  \n",
        "  def __init__(self,file_name):\n",
        "    '''將json 轉成 table'''\n",
        "\n",
        "    file_name = file_name\n",
        "\n",
        "    import pandas as pd\n",
        "    import numpy as np\n",
        "\n",
        "    import json\n",
        "      \n",
        "    # Opening JSON file\n",
        "    f = open('/content/drive/My Drive/mitre_json/' + file_name,)\n",
        "      \n",
        "    # returns JSON object as \n",
        "    # a dictionary\n",
        "    data = json.load(f)\n",
        "      \n",
        "    # Iterating through the json\n",
        "    # list\n",
        "      \n",
        "    # Closing file\n",
        "    f.close()\n",
        "\n",
        "\n",
        "    list_of_tuples = []\n",
        "\n",
        "    list_of_tuples = []\n",
        "\n",
        "    for j in range(0,25):\n",
        "      for i in data['Adversaries'][0]['Detections_By_Step']['Scenario_1']['Steps'][j]['Substeps']:\n",
        "        \n",
        "        Substep = i['Substep']\n",
        "        Procedure = i['Procedure']\n",
        "        Criteria = i['Criteria']  #description\n",
        "        Tactic_Id = i['Tactic']['Tactic_Id']\n",
        "        Tactic_Name = i['Tactic']['Tactic_Name']\n",
        "        Technique_Id = i['Technique']['Technique_Id']\n",
        "        Technique_Name = i['Technique']['Technique_Name']\n",
        "        Subtechnique_Id = i['Subtechnique']['Subtechnique_Id']\n",
        "        Subtechnique_Name = i['Subtechnique']['Subtechnique_Name']\n",
        "        #Detection_Note = i['Detections'][0]['Detection_Note']\n",
        "        #Detection_Type = i['Detections'][0]['Detection_Type']\n",
        "        Modifier = i['Detections'][0]['Modifier']\n",
        "        Screenshots = i['Detections'][0]['Screenshots']\n",
        "        Footnotes = i['Detections'][0]['Footnotes']\n",
        "\n",
        "        #list_of_tuples.append((Substep, Procedure, Tactic_Id, Tactic_Name, Technique_Id, Technique_Name, Subtechnique_Id, Subtechnique_Name, Detection_Type, str(Modifier), Screenshots, Footnotes)) #modifier 去list\n",
        "        \n",
        "        Detections = []\n",
        "        for j in range(len(i['Detections'])):\n",
        "            \n",
        "            per_Detection = i['Detections'][j]['Detection_Type']\n",
        "            Detections.append(per_Detection)\n",
        "                \n",
        "        Detection_Type = Detections\n",
        "        \n",
        "        list_of_tuples.append((Substep, Procedure, Tactic_Id, Tactic_Name, Technique_Id, Technique_Name, Subtechnique_Id, Subtechnique_Name, Detection_Type, str(Modifier), Screenshots, Footnotes)) #modifier 去list\n",
        "                \n",
        "        \n",
        "        \n",
        "        \n",
        "        \n",
        "    columns_name = list(('Substep', 'Procedure', 'Tactic_Id', 'Tactic_Name', 'Technique_Id', 'Technique_Name', 'Subtechnique_Id', 'Subtechnique_Name',  'Detection_Type', 'Modifier' ,'Screenshots', 'Footnotes'))\n",
        "\n",
        "    df = pd.DataFrame(list_of_tuples, columns = columns_name)\n",
        "\n",
        "\n",
        "    self.df = df\n",
        "\n",
        "\n",
        "\n",
        "  def statistic (self):\n",
        "    \n",
        "    pies = ['Tactic_Id','Tactic_Name', 'Technique_Name', 'Detection_Type', 'Modifier']\n",
        "\n",
        "    for i in pies :\n",
        "      counts = self.df[i].value_counts()\n",
        "      print(counts)\n",
        "      print('')\n",
        "      print('')\n",
        "      print('')\n",
        "      print('')\n",
        "      print('---------------------------------')\n",
        "\n",
        "  def pie (self):\n",
        "\n",
        "    import matplotlib.pyplot as plt\n",
        "    import seaborn as sns\n",
        "\n",
        "    plt.figure()\n",
        "    plt.pie(self.df['Detection_Type'].value_counts(),radius=3,autopct='%0.2f%%',labels=list(self.df['Detection_Type'].value_counts().index),\n",
        "          startangle=90)\n",
        "    plt.title('Detection_Type',fontdict={'size':20,'weight':'bold'})\n",
        "    plt.plot()\n",
        "\n",
        "  \n",
        "  def counts (self):\n",
        "\n",
        "    import matplotlib.pyplot as plt\n",
        "    import seaborn as sns\n",
        "    pies = ['Tactic_Id','Tactic_Name', 'Technique_Name', 'Detection_Type', 'Modifier']\n",
        "    for pie in pies:\n",
        "      plt.figure() \n",
        "      ax = sns.countplot(pie, palette=\"rocket\" ,data= self.df)\n",
        "      ax.set_xticklabels(ax.get_xticklabels(), rotation=40, ha=\"right\")\n",
        "      plt.tight_layout()\n",
        "      plt.show()\n",
        "\n",
        "  def to_excel (self):\n",
        "    import pandas as pd\n",
        "    self.df.to_excel('excel_output.xls')\n",
        "\n",
        "\n",
        "\n",
        " "
      ],
      "execution_count": 2,
      "outputs": []
    },
    {
      "cell_type": "code",
      "metadata": {
        "id": "qvhRDpSowgUM"
      },
      "source": [
        ""
      ],
      "execution_count": null,
      "outputs": []
    },
    {
      "cell_type": "code",
      "metadata": {
        "id": "oREtOBCZvDA3"
      },
      "source": [
        "#excel_df = parsing_json_()\n",
        "\n",
        "excel_df.to_excel()"
      ],
      "execution_count": null,
      "outputs": []
    },
    {
      "cell_type": "markdown",
      "metadata": {
        "id": "DqIVccTwqf-k"
      },
      "source": [
        "control + / (short key)"
      ]
    },
    {
      "cell_type": "code",
      "metadata": {
        "colab": {
          "base_uri": "https://localhost:8080/"
        },
        "id": "xhymWhJoxtxS",
        "outputId": "0fc15854-c96b-43bb-e43f-6c9af9799370"
      },
      "source": [
        ""
      ],
      "execution_count": null,
      "outputs": [
        {
          "output_type": "execute_result",
          "data": {
            "text/plain": [
              "<__main__.parsing_json_ at 0x7f049aabb610>"
            ]
          },
          "metadata": {
            "tags": []
          },
          "execution_count": 17
        }
      ]
    },
    {
      "cell_type": "markdown",
      "metadata": {
        "id": "AQsP7W9CCf6x"
      },
      "source": [
        "## companys"
      ]
    },
    {
      "cell_type": "code",
      "metadata": {
        "id": "EQmKLtbpTsiG",
        "colab": {
          "base_uri": "https://localhost:8080/",
          "height": 1000
        },
        "outputId": "f14eec50-fdd1-4440-e0c4-cccace1a984c"
      },
      "source": [
        "class companys ():\n",
        "  import pandas as pd\n",
        "  pd.options.mode.chained_assignment = None\n",
        "  \n",
        "  for i in ['iii','claroty', 'dragos', 'Microsoft','armis']:\n",
        "    com_data = statistic(i + '_ICS_Results.json' )\n",
        "\n",
        "  "
      ],
      "execution_count": 7,
      "outputs": [
        {
          "output_type": "stream",
          "text": [
            "iii_ICS_Results.json\n",
            "Counter({'': 95, 'Telemetry': 54, 'None': 28, 'Technique': 13, 'General': 12, 'N/A': 2})\n",
            "\n",
            "\n",
            "\n",
            "Analytic source \n",
            "Network SPAN    25\n",
            "Name: source, dtype: int64\n",
            "\n",
            "\n",
            "\n",
            "Telemetry vs Analytic\n",
            "Telemetry_count: 54\n",
            "analytic_count: 25\n",
            "\n",
            "\n",
            "\n",
            "visibility 分析:::\n",
            "Host-Based      37\n",
            "Network SPAN    35\n",
            "Name: source, dtype: int64\n",
            "\n",
            "\n",
            "\n",
            "technique 總數為:::\n",
            "Network SPAN    13\n",
            "Name: source, dtype: int64\n",
            "\n",
            "\n",
            "\n",
            "---------------------------------------------------------------------------------------\n",
            "---------------------------------------------------------------------------------------\n",
            "claroty_ICS_Results.json\n",
            "Counter({'': 77, 'N/A': 52, 'Telemetry': 45, 'General': 16, 'Technique': 9, 'None': 5})\n",
            "\n",
            "\n",
            "\n",
            "Analytic source \n",
            "Network SPAN    25\n",
            "Name: source, dtype: int64\n",
            "\n",
            "\n",
            "\n",
            "Telemetry vs Analytic\n",
            "Telemetry_count: 45\n",
            "analytic_count: 25\n",
            "\n",
            "\n",
            "\n",
            "visibility 分析:::\n",
            "Network SPAN    43\n",
            "PLC log          2\n",
            "Name: source, dtype: int64\n",
            "\n",
            "\n",
            "\n",
            "technique 總數為:::\n",
            "Network SPAN    9\n",
            "Name: source, dtype: int64\n",
            "\n",
            "\n",
            "\n",
            "---------------------------------------------------------------------------------------\n",
            "---------------------------------------------------------------------------------------\n",
            "dragos_ICS_Results.json\n",
            "Counter({'Telemetry': 93, 'Technique': 39, '': 39, 'General': 23, 'None': 7, 'N/A': 2, 'Tactic': 1})\n",
            "\n",
            "\n",
            "\n",
            "Analytic source \n",
            "Host-Based      36\n",
            "Network SPAN    27\n",
            "Name: source, dtype: int64\n",
            "\n",
            "\n",
            "\n",
            "Telemetry vs Analytic\n",
            "Telemetry_count: 93\n",
            "analytic_count: 63\n",
            "\n",
            "\n",
            "\n",
            "visibility 分析:::\n",
            "Host-Based      52\n",
            "Network SPAN    41\n",
            "Name: source, dtype: int64\n",
            "\n",
            "\n",
            "\n",
            "technique 總數為:::\n",
            "Host-Based      26\n",
            "Network SPAN    13\n",
            "Name: source, dtype: int64\n",
            "\n",
            "\n",
            "\n",
            "---------------------------------------------------------------------------------------\n",
            "---------------------------------------------------------------------------------------\n",
            "Microsoft_ICS_Results.json\n",
            "Counter({'Telemetry': 96, '': 69, 'General': 26, 'Technique': 4, 'None': 4, 'Tactic': 3, 'N/A': 2})\n",
            "\n",
            "\n",
            "\n",
            "Analytic source \n",
            "Network SPAN    33\n",
            "Name: source, dtype: int64\n",
            "\n",
            "\n",
            "\n",
            "Telemetry vs Analytic\n",
            "Telemetry_count: 96\n",
            "analytic_count: 33\n",
            "\n",
            "\n",
            "\n",
            "visibility 分析:::\n",
            "Host-Based      49\n",
            "Network SPAN    47\n",
            "Name: source, dtype: int64\n",
            "\n",
            "\n",
            "\n",
            "technique 總數為:::\n",
            "Network SPAN    4\n",
            "Name: source, dtype: int64\n",
            "\n",
            "\n",
            "\n",
            "---------------------------------------------------------------------------------------\n",
            "---------------------------------------------------------------------------------------\n",
            "armis_ICS_Results.json\n",
            "Counter({'Telemetry': 90, '': 52, 'Technique': 45, 'None': 10, 'General': 5, 'N/A': 2})\n",
            "\n",
            "\n",
            "\n",
            "Analytic source \n",
            "Host-Based      32\n",
            "Network SPAN    18\n",
            "Name: source, dtype: int64\n",
            "\n",
            "\n",
            "\n",
            "Telemetry vs Analytic\n",
            "Telemetry_count: 90\n",
            "analytic_count: 50\n",
            "\n",
            "\n",
            "\n",
            "visibility 分析:::\n",
            "Host-Based      52\n",
            "Network SPAN    38\n",
            "Name: source, dtype: int64\n",
            "\n",
            "\n",
            "\n",
            "technique 總數為:::\n",
            "Host-Based      29\n",
            "Network SPAN    16\n",
            "Name: source, dtype: int64\n",
            "\n",
            "\n",
            "\n",
            "---------------------------------------------------------------------------------------\n",
            "---------------------------------------------------------------------------------------\n"
          ],
          "name": "stdout"
        },
        {
          "output_type": "display_data",
          "data": {
            "image/png": "[encoded data removed]",
            "text/plain": [
              "<Figure size 432x288 with 1 Axes>"
            ]
          },
          "metadata": {
            "tags": []
          }
        },
        {
          "output_type": "display_data",
          "data": {
            "image/png": "[encoded data removed]",
            "text/plain": [
              "<Figure size 432x288 with 1 Axes>"
            ]
          },
          "metadata": {
            "tags": []
          }
        },
        {
          "output_type": "display_data",
          "data": {
            "image/png": "[encoded data removed]",
            "text/plain": [
              "<Figure size 432x288 with 1 Axes>"
            ]
          },
          "metadata": {
            "tags": []
          }
        },
        {
          "output_type": "display_data",
          "data": {
            "image/png": "[encoded data removed]",
            "text/plain": [
              "<Figure size 432x288 with 1 Axes>"
            ]
          },
          "metadata": {
            "tags": []
          }
        },
        {
          "output_type": "display_data",
          "data": {
            "image/png": "[encoded data removed]",
            "text/plain": [
              "<Figure size 432x288 with 1 Axes>"
            ]
          },
          "metadata": {
            "tags": []
          }
        }
      ]
    },
    {
      "cell_type": "markdown",
      "metadata": {
        "id": "zMyovvIAu9tJ"
      },
      "source": [
        "## parsing clar"
      ]
    },
    {
      "cell_type": "code",
      "metadata": {
        "id": "zHnYINsUt6ny"
      },
      "source": [
        "class parsing_clar_():\n",
        "  \n",
        "  \n",
        "  # Author: Samuel Yu <samueltoyu@gmail.com>\n",
        "\n",
        "  \n",
        "  \n",
        "  def __init__(self):\n",
        "    '''將json 轉成 table'''\n",
        "\n",
        "    file_name = 'claroty_ICS_Results.json'\n",
        "\n",
        "    import pandas as pd\n",
        "    import numpy as np\n",
        "\n",
        "    import json\n",
        "      \n",
        "    # Opening JSON file\n",
        "    f = open('/content/drive/My Drive/mitre_json/' + file_name,)\n",
        "      \n",
        "    # returns JSON object as \n",
        "    # a dictionary\n",
        "    data = json.load(f)\n",
        "      \n",
        "    # Iterating through the json\n",
        "    # list\n",
        "      \n",
        "    # Closing file\n",
        "    f.close()\n",
        "\n",
        "\n",
        "    list_of_tuples = []\n",
        "\n",
        "    list_of_tuples = []\n",
        "\n",
        "    for j in range(0,25):\n",
        "      for i in data['Adversaries'][0]['Detections_By_Step']['Scenario_1']['Steps'][j]['Substeps']:\n",
        "        \n",
        "        Substep = i['Substep']\n",
        "        Procedure = i['Procedure']\n",
        "        Criteria = i['Criteria']  #description\n",
        "        Tactic_Id = i['Tactic']['Tactic_Id']\n",
        "        Tactic_Name = i['Tactic']['Tactic_Name']\n",
        "        Technique_Id = i['Technique']['Technique_Id']\n",
        "        Technique_Name = i['Technique']['Technique_Name']\n",
        "        Subtechnique_Id = i['Subtechnique']['Subtechnique_Id']\n",
        "        Subtechnique_Name = i['Subtechnique']['Subtechnique_Name']\n",
        "        #Detection_Note = i['Detections'][0]['Detection_Note']\n",
        "        #Detection_Type = i['Detections'][0]['Detection_Type']\n",
        "        Modifier = i['Detections'][0]['Modifier']\n",
        "        Screenshots = i['Detections'][0]['Screenshots']\n",
        "        Footnotes = i['Detections'][0]['Footnotes']\n",
        "\n",
        "        #list_of_tuples.append((Substep, Procedure, Tactic_Id, Tactic_Name, Technique_Id, Technique_Name, Subtechnique_Id, Subtechnique_Name, Detection_Type, str(Modifier), Screenshots, Footnotes)) #modifier 去list\n",
        "        \n",
        "        Detections = []\n",
        "        for j in range(len(i['Detections'])):\n",
        "            \n",
        "            per_Detection = i['Detections'][j]['Detection_Type']\n",
        "            Detections.append(per_Detection)\n",
        "                \n",
        "        Detection_Type = Detections\n",
        "        \n",
        "        list_of_tuples.append((Substep, Procedure, Tactic_Id, Tactic_Name, Technique_Id, Technique_Name, Subtechnique_Id, Subtechnique_Name, Detection_Type, str(Modifier), Screenshots, Footnotes)) #modifier 去list\n",
        "                \n",
        "        \n",
        "        \n",
        "        \n",
        "        \n",
        "    columns_name = list(('Substep', 'Procedure', 'Tactic_Id', 'Tactic_Name', 'Technique_Id', 'Technique_Name', 'Subtechnique_Id', 'Subtechnique_Name',  'Detection_Type', 'Modifier' ,'Screenshots', 'Footnotes'))\n",
        "\n",
        "    df = pd.DataFrame(list_of_tuples, columns = columns_name)\n",
        "\n",
        "\n",
        "    self.df = df\n",
        "\n",
        "\n",
        "\n",
        " "
      ],
      "execution_count": 4,
      "outputs": []
    },
    {
      "cell_type": "markdown",
      "metadata": {
        "id": "ZYsozRDk1S8q"
      },
      "source": [
        "## 產出source"
      ]
    },
    {
      "cell_type": "code",
      "metadata": {
        "id": "oxTL540B0oPv"
      },
      "source": [
        "def clists_creator():\n",
        "  \n",
        "\n",
        "  claroty = parsing_clar_()\n",
        "  cla = claroty.df\n",
        "  cla['Substep_source'] = 0\n",
        "  cla_sub = cla[['Substep','Detection_Type', 'Substep_source']]\n",
        "  cla_sub\n",
        "\n",
        "\n",
        "  # 以claroty 去訂host based\n",
        "  clists = []\n",
        "  for dtype in cla_sub['Detection_Type']:\n",
        "    if dtype == ['N/A']:\n",
        "      clists.append('Host-Based')\n",
        "    else:\n",
        "      clists.append(0)\n",
        "  len(clists)\n",
        "\n",
        "\n",
        "  #以other 去訂plc log\n",
        "  clists[65] = 'PLC log'\n",
        "  clists[88] = 'PLC log'\n",
        "\n",
        "\n",
        "\n",
        "  #剩下填寫network span\n",
        "  for i in range(len(clists)):\n",
        "    if clists[i] == 0:\n",
        "      clists[i] = 'Network SPAN'\n",
        "\n",
        "  return clists"
      ],
      "execution_count": 5,
      "outputs": []
    },
    {
      "cell_type": "markdown",
      "metadata": {
        "id": "l1UriiAH2817"
      },
      "source": [
        "  ## hi\n",
        "  iii_ICS_Results.json\n",
        "\n",
        "  Microsoft_ICS_Results.json\n",
        "\n",
        "  armis_ICS_Results.json\n",
        "\n",
        "  claroty_ICS_Results.json\n",
        "\n",
        "  dragos_ICS_Results.json"
      ]
    },
    {
      "cell_type": "markdown",
      "metadata": {
        "id": "63CfjnP8Z9wB"
      },
      "source": [
        "## company stat"
      ]
    },
    {
      "cell_type": "code",
      "metadata": {
        "id": "6siubNIqZxHB"
      },
      "source": [
        "class statistic():\n",
        "  \n",
        "  def __init__(self,file_name):\n",
        "\n",
        "    from collections import Counter\n",
        "\n",
        "    company = parsing_json_(file_name)\n",
        "    com = company.df\n",
        "    com['Substep_source'] = 0\n",
        "    com_sub = com[['Substep','Detection_Type', 'Substep_source']]\n",
        "    com_sub['source'] = clists_creator()\n",
        "\n",
        "    # strip 出column from list\n",
        "    list1 = []\n",
        "    list2 = []\n",
        "    for i in com_sub['Detection_Type']:\n",
        "      \n",
        "      if len(i) ==2:\n",
        "        list1.append(i[0])\n",
        "        list2.append(i[1])\n",
        "      else:\n",
        "        list1.append(i[0])\n",
        "        list2.append('')\n",
        "    com_sub['Detection_Type_1'] = list1\n",
        "    com_sub['Detection_Type_2'] = list2\n",
        "\n",
        "    total_list = list(com_sub['Detection_Type_1']) + list(com_sub['Detection_Type_2'])\n",
        "\n",
        "    \n",
        "\n",
        "    print(file_name)\n",
        "    print(Counter(total_list))\n",
        "    print('')\n",
        "    print('')\n",
        "    print('')\n",
        "    \n",
        "    ### plot detection type\n",
        "    import matplotlib.pyplot as plt\n",
        "    import seaborn as sns\n",
        "\n",
        "\n",
        "    labels = []\n",
        "    sizes = []\n",
        "    for x, y in dict(Counter(total_list)).items():\n",
        "      labels.append(x)\n",
        "      sizes.append(y)\n",
        "\n",
        "    plt.figure()\n",
        "    plt.pie(sizes,radius=3,autopct='%0.2f%%',labels= labels,\n",
        "          startangle=90)\n",
        "    plt.title('Detection_Type',fontdict={'size':20,'weight':'bold'})\n",
        "    plt.plot()\n",
        "\n",
        "\n",
        "    #analytic detections\n",
        "    com_analytic = com_sub[(com_sub['Detection_Type_1'] == 'Technique') | (com_sub['Detection_Type_1'] == 'Tactic') | (com_sub['Detection_Type_1'] == 'General')|(com_sub['Detection_Type_2'] == 'Technique') | (com_sub['Detection_Type_2'] == 'Tactic') | (com_sub['Detection_Type_2'] == 'General')]\n",
        "    print('Analytic source ')\n",
        "    print(com_analytic['source'].value_counts())\n",
        "    print('')\n",
        "    print('')\n",
        "    print('')\n",
        "    \n",
        "\n",
        "\n",
        "\n",
        "\n",
        "    #Detection 比較 圓餅\n",
        "    #check\n",
        "\n",
        "    #analytic Coverage\n",
        "    #check\n",
        "\n",
        "\n",
        "    #Telemetry\n",
        "    #check\n",
        "    counter_dic = dict(Counter(total_list))\n",
        "    Telemetry_count = counter_dic['Telemetry']\n",
        "    analytic_count = counter_dic['Technique'] +counter_dic['General'] \n",
        "\n",
        "    if 'Tactic' in counter_dic:\n",
        "      analytic_count += counter_dic['Tactic']\n",
        "    \n",
        "    print('Telemetry vs Analytic')\n",
        "    print('Telemetry_count:',Telemetry_count)\n",
        "    print('analytic_count:',analytic_count)\n",
        "    print('')\n",
        "    print('')\n",
        "    print('')\n",
        "\n",
        "    #visibility\n",
        "    #check\n",
        "\n",
        "    com_viz = com_sub[(com_sub['Detection_Type_1'] == 'Technique') | (com_sub['Detection_Type_1'] == 'Tactic') | (com_sub['Detection_Type_1'] == 'General')|(com_sub['Detection_Type_2'] == 'Technique') | (com_sub['Detection_Type_2'] == 'Tactic') | (com_sub['Detection_Type_2'] == 'General') | (com_sub['Detection_Type_1'] == 'Telemetry') | (com_sub['Detection_Type_1'] == 'Telemetry')]\n",
        "    print('visibility 分析:::')\n",
        "    print(com_viz['source'].value_counts())\n",
        "    print('')\n",
        "    print('')\n",
        "    print('')\n",
        "\n",
        "    #technique comparison\n",
        "    com_tech = com_sub[(com_sub['Detection_Type_1'] == 'Technique') | (com_sub['Detection_Type_2'] == 'Technique')]\n",
        "    \n",
        "    print('technique 總數為:::')\n",
        "    print(com_tech['source'].value_counts())\n",
        "    print('')\n",
        "    print('')\n",
        "    print('')\n",
        "\n",
        "\n",
        "\n",
        "    print('---------------------------------------------------------------------------------------')\n",
        "    print('---------------------------------------------------------------------------------------')\n",
        "\n",
        "\n"
      ],
      "execution_count": 6,
      "outputs": []
    },
    {
      "cell_type": "markdown",
      "metadata": {
        "id": "FpZCFjCOCGyw"
      },
      "source": [
        "## plotting detiection type"
      ]
    },
    {
      "cell_type": "code",
      "metadata": {
        "colab": {
          "base_uri": "https://localhost:8080/",
          "height": 307
        },
        "id": "oIdT38RICFzQ",
        "outputId": "ff90e79f-05d8-4b94-b411-ec64c8594752"
      },
      "source": [
        "import matplotlib.pyplot as plt\n",
        "\n",
        "# Some data\n",
        "labels = 'Technique','Tactic', 'General', 'Telemetry'\n",
        "frac_armis = [45, 0, 5, 90]\n",
        "frac_dragos = [39, 1, 23, 93]\n",
        "frac_iii = [13, 0, 12, 54]\n",
        "frac_claroty = [9, 0, 16, 45]\n",
        "frac_microsoft = [4, 3, 26, 96]\n",
        "\n",
        "colors = ['#ff6666', '#ffcc99', '#99ff99', '#66b3ff']\n",
        "# Make figure and axes\n",
        "fig, axs = plt.subplots(1, 5, figsize=(25,25))\n",
        "\n",
        "axs[0].pie(frac_armis, labels=labels, autopct='%1.1f%%', shadow=True, colors = colors,startangle=90 )\n",
        "axs[0].legend(loc='best')\n",
        "axs[0].set_title('arims')\n",
        "\n",
        "\n",
        "axs[1].pie(frac_dragos, labels=labels, autopct='%.0f%%', shadow=True, colors = colors,startangle=90)\n",
        "axs[1].legend(loc='best')\n",
        "axs[1].set_title('dragos')\n",
        "\n",
        "\n",
        "axs[2].pie(frac_iii, labels=labels, autopct='%1.1f%%', shadow=True, colors = colors,startangle=90)\n",
        "axs[2].legend(loc='best')\n",
        "axs[2].set_title('iii')\n",
        "\n",
        "\n",
        "axs[3].pie(frac_claroty, labels=labels, autopct='%.0f%%', shadow=True, colors = colors,startangle=90)\n",
        "axs[3].legend(loc='best')\n",
        "axs[3].set_title('claroty')\n",
        "\n",
        "\n",
        "\n",
        "axs[4].pie(frac_microsoft, labels=labels, autopct='%.0f%%', shadow=True, colors = colors,startangle=90)\n",
        "axs[4].legend(loc='best')\n",
        "axs[4].set_title('microsoft')\n",
        "\n",
        "\n",
        "\n",
        "\n",
        "plt.show()"
      ],
      "execution_count": 29,
      "outputs": [
        {
          "output_type": "display_data",
          "data": {
            "image/png": "[encoded data removed]",
            "text/plain": [
              "<Figure size 1800x1800 with 5 Axes>"
            ]
          },
          "metadata": {
            "tags": []
          }
        }
      ]
    },
    {
      "cell_type": "markdown",
      "metadata": {
        "id": "V51JrHPW-3Ja"
      },
      "source": [
        "## testing"
      ]
    },
    {
      "cell_type": "code",
      "metadata": {
        "id": "Kteuy3qFSsN9"
      },
      "source": [
        "com_analytic = com_sub[(com_sub['Detection_Type_1'] == 'Technique') | (com_sub['Detection_Type_1'] == 'Tactic') | (com_sub['Detection_Type_1'] == 'General')|(com_sub['Detection_Type_2'] == 'Technique') | (com_sub['Detection_Type_2'] == 'Tactic') | (com_sub['Detection_Type_2'] == 'General')]"
      ],
      "execution_count": null,
      "outputs": []
    },
    {
      "cell_type": "code",
      "metadata": {
        "colab": {
          "base_uri": "https://localhost:8080/"
        },
        "id": "vVe1RRyRXgUa",
        "outputId": "fddf53bf-ced2-44f9-baa7-029df880e18e"
      },
      "source": [
        "print(com_analytic[com_analytic['source'] == \"Network SPAN\"])\n",
        "print(com_analytic[com_analytic['source'] == \"Network SPAN\"].shape)"
      ],
      "execution_count": null,
      "outputs": [
        {
          "output_type": "stream",
          "text": [
            "    Substep          Detection_Type  ...  Detection_Type_1 Detection_Type_2\n",
            "0     1.A.1  [Telemetry, Technique]  ...         Telemetry        Technique\n",
            "2     2.B.1  [Telemetry, Technique]  ...         Telemetry        Technique\n",
            "6     4.B.2    [Telemetry, General]  ...         Telemetry          General\n",
            "14    6.E.2    [General, Telemetry]  ...           General        Telemetry\n",
            "23    9.B.2    [General, Telemetry]  ...           General        Telemetry\n",
            "25    9.C.2  [Telemetry, Technique]  ...         Telemetry        Technique\n",
            "27    9.D.2    [General, Telemetry]  ...           General        Telemetry\n",
            "29    9.E.2  [Technique, Telemetry]  ...         Technique        Telemetry\n",
            "30   10.A.1    [General, Telemetry]  ...           General        Telemetry\n",
            "32   10.B.1  [Telemetry, Technique]  ...         Telemetry        Technique\n",
            "39   13.A.1  [Telemetry, Technique]  ...         Telemetry        Technique\n",
            "42   15.A.1    [General, Telemetry]  ...           General        Telemetry\n",
            "45   16.A.2    [General, Telemetry]  ...           General        Telemetry\n",
            "47   16.B.2    [General, Telemetry]  ...           General        Telemetry\n",
            "49   16.C.2    [General, Telemetry]  ...           General        Telemetry\n",
            "51   16.D.2  [Telemetry, Technique]  ...         Telemetry        Technique\n",
            "57   19.A.1    [Telemetry, General]  ...         Telemetry          General\n",
            "61   20.A.2    [General, Telemetry]  ...           General        Telemetry\n",
            "63   20.B.2  [Technique, Telemetry]  ...         Technique        Telemetry\n",
            "64   20.B.3  [Telemetry, Technique]  ...         Telemetry        Technique\n",
            "74   21.F.2    [Telemetry, General]  ...         Telemetry          General\n",
            "76   22.A.2  [Telemetry, Technique]  ...         Telemetry        Technique\n",
            "78   22.B.2  [Telemetry, Technique]  ...         Telemetry        Technique\n",
            "84   24.A.2    [Telemetry, General]  ...         Telemetry          General\n",
            "86   24.B.2  [Technique, Telemetry]  ...         Technique        Telemetry\n",
            "87   24.B.3  [Telemetry, Technique]  ...         Telemetry        Technique\n",
            "101  25.G.4    [General, Telemetry]  ...           General        Telemetry\n",
            "\n",
            "[27 rows x 6 columns]\n"
          ],
          "name": "stdout"
        },
        {
          "output_type": "execute_result",
          "data": {
            "text/plain": [
              "(27, 6)"
            ]
          },
          "metadata": {
            "tags": []
          },
          "execution_count": 10
        }
      ]
    },
    {
      "cell_type": "code",
      "metadata": {
        "colab": {
          "base_uri": "https://localhost:8080/"
        },
        "id": "K6EL86tkpeV9",
        "outputId": "a33b404c-a6a3-455d-9f3b-3083bdcb42f1"
      },
      "source": [
        "print(com_analytic[com_analytic['source'] == \"Host-Based\"\t])\n",
        "print(com_analytic[com_analytic['source'] == \"Host-Based\"].shape)"
      ],
      "execution_count": null,
      "outputs": [
        {
          "output_type": "stream",
          "text": [
            "   Substep          Detection_Type  ...  Detection_Type_1 Detection_Type_2\n",
            "4    4.A.1    [General, Telemetry]  ...           General        Telemetry\n",
            "9    6.A.1  [Telemetry, Technique]  ...         Telemetry        Technique\n",
            "10   6.B.1     [Telemetry, Tactic]  ...         Telemetry           Tactic\n",
            "11   6.C.1  [Telemetry, Technique]  ...         Telemetry        Technique\n",
            "16   7.A.2    [Telemetry, General]  ...         Telemetry          General\n",
            "18   7.B.2    [Telemetry, General]  ...         Telemetry          General\n",
            "20   9.A.1  [Technique, Telemetry]  ...         Technique        Telemetry\n",
            "22   9.B.1  [Telemetry, Technique]  ...         Telemetry        Technique\n",
            "24   9.C.1  [Technique, Telemetry]  ...         Technique        Telemetry\n",
            "26   9.D.1  [Technique, Telemetry]  ...         Technique        Telemetry\n",
            "28   9.E.1  [Technique, Telemetry]  ...         Technique        Telemetry\n",
            "33  10.B.2    [Telemetry, General]  ...         Telemetry          General\n",
            "35  11.B.1  [Telemetry, Technique]  ...         Telemetry        Technique\n",
            "36  11.C.1  [Technique, Telemetry]  ...         Technique        Telemetry\n",
            "40  14.A.1    [Telemetry, General]  ...         Telemetry          General\n",
            "41  14.B.1    [General, Telemetry]  ...           General        Telemetry\n",
            "43  15.A.2    [General, Telemetry]  ...           General        Telemetry\n",
            "44  16.A.1  [Technique, Telemetry]  ...         Technique        Telemetry\n",
            "46  16.B.1  [Telemetry, Technique]  ...         Telemetry        Technique\n",
            "48  16.C.1  [Technique, Telemetry]  ...         Technique        Telemetry\n",
            "50  16.D.1  [Telemetry, Technique]  ...         Telemetry        Technique\n",
            "52  17.A.1    [General, Telemetry]  ...           General        Telemetry\n",
            "60  20.A.1  [Technique, Telemetry]  ...         Technique        Telemetry\n",
            "62  20.B.1  [Technique, Telemetry]  ...         Technique        Telemetry\n",
            "66  20.C.1  [Technique, Telemetry]  ...         Technique        Telemetry\n",
            "69  20.D.1  [Technique, Telemetry]  ...         Technique        Telemetry\n",
            "71  21.E.1  [Technique, Telemetry]  ...         Technique        Telemetry\n",
            "73  21.F.1  [Telemetry, Technique]  ...         Telemetry        Technique\n",
            "75  22.A.1  [Telemetry, Technique]  ...         Telemetry        Technique\n",
            "77  22.B.1  [Technique, Telemetry]  ...         Technique        Telemetry\n",
            "83  24.A.1  [Telemetry, Technique]  ...         Telemetry        Technique\n",
            "85  24.B.1  [Telemetry, Technique]  ...         Telemetry        Technique\n",
            "89  24.C.1  [Telemetry, Technique]  ...         Telemetry        Technique\n",
            "93  25.D.2    [General, Telemetry]  ...           General        Telemetry\n",
            "94  25.E.1  [Technique, Telemetry]  ...         Technique        Telemetry\n",
            "98  25.G.1  [Technique, Telemetry]  ...         Technique        Telemetry\n",
            "\n",
            "[36 rows x 6 columns]\n"
          ],
          "name": "stdout"
        },
        {
          "output_type": "execute_result",
          "data": {
            "text/plain": [
              "(36, 6)"
            ]
          },
          "metadata": {
            "tags": []
          },
          "execution_count": 12
        }
      ]
    },
    {
      "cell_type": "code",
      "metadata": {
        "colab": {
          "base_uri": "https://localhost:8080/",
          "height": 1000
        },
        "id": "kicaPls4tQOD",
        "outputId": "9398c3be-b98b-4c49-c115-6697eb4ded99"
      },
      "source": [
        "com_analytic[com_analytic['source'] == \"Host-Based\"]"
      ],
      "execution_count": null,
      "outputs": [
        {
          "output_type": "execute_result",
          "data": {
            "text/html": [
              "<div>\n",
              "<style scoped>\n",
              "    .dataframe tbody tr th:only-of-type {\n",
              "        vertical-align: middle;\n",
              "    }\n",
              "\n",
              "    .dataframe tbody tr th {\n",
              "        vertical-align: top;\n",
              "    }\n",
              "\n",
              "    .dataframe thead th {\n",
              "        text-align: right;\n",
              "    }\n",
              "</style>\n",
              "<table border=\"1\" class=\"dataframe\">\n",
              "  <thead>\n",
              "    <tr style=\"text-align: right;\">\n",
              "      <th></th>\n",
              "      <th>Substep</th>\n",
              "      <th>Detection_Type</th>\n",
              "      <th>Substep_source</th>\n",
              "      <th>source</th>\n",
              "      <th>Detection_Type_1</th>\n",
              "      <th>Detection_Type_2</th>\n",
              "    </tr>\n",
              "  </thead>\n",
              "  <tbody>\n",
              "    <tr>\n",
              "      <th>4</th>\n",
              "      <td>4.A.1</td>\n",
              "      <td>[General, Telemetry]</td>\n",
              "      <td>0</td>\n",
              "      <td>Host-Based</td>\n",
              "      <td>General</td>\n",
              "      <td>Telemetry</td>\n",
              "    </tr>\n",
              "    <tr>\n",
              "      <th>9</th>\n",
              "      <td>6.A.1</td>\n",
              "      <td>[Telemetry, Technique]</td>\n",
              "      <td>0</td>\n",
              "      <td>Host-Based</td>\n",
              "      <td>Telemetry</td>\n",
              "      <td>Technique</td>\n",
              "    </tr>\n",
              "    <tr>\n",
              "      <th>10</th>\n",
              "      <td>6.B.1</td>\n",
              "      <td>[Telemetry, Tactic]</td>\n",
              "      <td>0</td>\n",
              "      <td>Host-Based</td>\n",
              "      <td>Telemetry</td>\n",
              "      <td>Tactic</td>\n",
              "    </tr>\n",
              "    <tr>\n",
              "      <th>11</th>\n",
              "      <td>6.C.1</td>\n",
              "      <td>[Telemetry, Technique]</td>\n",
              "      <td>0</td>\n",
              "      <td>Host-Based</td>\n",
              "      <td>Telemetry</td>\n",
              "      <td>Technique</td>\n",
              "    </tr>\n",
              "    <tr>\n",
              "      <th>16</th>\n",
              "      <td>7.A.2</td>\n",
              "      <td>[Telemetry, General]</td>\n",
              "      <td>0</td>\n",
              "      <td>Host-Based</td>\n",
              "      <td>Telemetry</td>\n",
              "      <td>General</td>\n",
              "    </tr>\n",
              "    <tr>\n",
              "      <th>18</th>\n",
              "      <td>7.B.2</td>\n",
              "      <td>[Telemetry, General]</td>\n",
              "      <td>0</td>\n",
              "      <td>Host-Based</td>\n",
              "      <td>Telemetry</td>\n",
              "      <td>General</td>\n",
              "    </tr>\n",
              "    <tr>\n",
              "      <th>20</th>\n",
              "      <td>9.A.1</td>\n",
              "      <td>[Technique, Telemetry]</td>\n",
              "      <td>0</td>\n",
              "      <td>Host-Based</td>\n",
              "      <td>Technique</td>\n",
              "      <td>Telemetry</td>\n",
              "    </tr>\n",
              "    <tr>\n",
              "      <th>22</th>\n",
              "      <td>9.B.1</td>\n",
              "      <td>[Telemetry, Technique]</td>\n",
              "      <td>0</td>\n",
              "      <td>Host-Based</td>\n",
              "      <td>Telemetry</td>\n",
              "      <td>Technique</td>\n",
              "    </tr>\n",
              "    <tr>\n",
              "      <th>24</th>\n",
              "      <td>9.C.1</td>\n",
              "      <td>[Technique, Telemetry]</td>\n",
              "      <td>0</td>\n",
              "      <td>Host-Based</td>\n",
              "      <td>Technique</td>\n",
              "      <td>Telemetry</td>\n",
              "    </tr>\n",
              "    <tr>\n",
              "      <th>26</th>\n",
              "      <td>9.D.1</td>\n",
              "      <td>[Technique, Telemetry]</td>\n",
              "      <td>0</td>\n",
              "      <td>Host-Based</td>\n",
              "      <td>Technique</td>\n",
              "      <td>Telemetry</td>\n",
              "    </tr>\n",
              "    <tr>\n",
              "      <th>28</th>\n",
              "      <td>9.E.1</td>\n",
              "      <td>[Technique, Telemetry]</td>\n",
              "      <td>0</td>\n",
              "      <td>Host-Based</td>\n",
              "      <td>Technique</td>\n",
              "      <td>Telemetry</td>\n",
              "    </tr>\n",
              "    <tr>\n",
              "      <th>33</th>\n",
              "      <td>10.B.2</td>\n",
              "      <td>[Telemetry, General]</td>\n",
              "      <td>0</td>\n",
              "      <td>Host-Based</td>\n",
              "      <td>Telemetry</td>\n",
              "      <td>General</td>\n",
              "    </tr>\n",
              "    <tr>\n",
              "      <th>35</th>\n",
              "      <td>11.B.1</td>\n",
              "      <td>[Telemetry, Technique]</td>\n",
              "      <td>0</td>\n",
              "      <td>Host-Based</td>\n",
              "      <td>Telemetry</td>\n",
              "      <td>Technique</td>\n",
              "    </tr>\n",
              "    <tr>\n",
              "      <th>36</th>\n",
              "      <td>11.C.1</td>\n",
              "      <td>[Technique, Telemetry]</td>\n",
              "      <td>0</td>\n",
              "      <td>Host-Based</td>\n",
              "      <td>Technique</td>\n",
              "      <td>Telemetry</td>\n",
              "    </tr>\n",
              "    <tr>\n",
              "      <th>40</th>\n",
              "      <td>14.A.1</td>\n",
              "      <td>[Telemetry, General]</td>\n",
              "      <td>0</td>\n",
              "      <td>Host-Based</td>\n",
              "      <td>Telemetry</td>\n",
              "      <td>General</td>\n",
              "    </tr>\n",
              "    <tr>\n",
              "      <th>41</th>\n",
              "      <td>14.B.1</td>\n",
              "      <td>[General, Telemetry]</td>\n",
              "      <td>0</td>\n",
              "      <td>Host-Based</td>\n",
              "      <td>General</td>\n",
              "      <td>Telemetry</td>\n",
              "    </tr>\n",
              "    <tr>\n",
              "      <th>43</th>\n",
              "      <td>15.A.2</td>\n",
              "      <td>[General, Telemetry]</td>\n",
              "      <td>0</td>\n",
              "      <td>Host-Based</td>\n",
              "      <td>General</td>\n",
              "      <td>Telemetry</td>\n",
              "    </tr>\n",
              "    <tr>\n",
              "      <th>44</th>\n",
              "      <td>16.A.1</td>\n",
              "      <td>[Technique, Telemetry]</td>\n",
              "      <td>0</td>\n",
              "      <td>Host-Based</td>\n",
              "      <td>Technique</td>\n",
              "      <td>Telemetry</td>\n",
              "    </tr>\n",
              "    <tr>\n",
              "      <th>46</th>\n",
              "      <td>16.B.1</td>\n",
              "      <td>[Telemetry, Technique]</td>\n",
              "      <td>0</td>\n",
              "      <td>Host-Based</td>\n",
              "      <td>Telemetry</td>\n",
              "      <td>Technique</td>\n",
              "    </tr>\n",
              "    <tr>\n",
              "      <th>48</th>\n",
              "      <td>16.C.1</td>\n",
              "      <td>[Technique, Telemetry]</td>\n",
              "      <td>0</td>\n",
              "      <td>Host-Based</td>\n",
              "      <td>Technique</td>\n",
              "      <td>Telemetry</td>\n",
              "    </tr>\n",
              "    <tr>\n",
              "      <th>50</th>\n",
              "      <td>16.D.1</td>\n",
              "      <td>[Telemetry, Technique]</td>\n",
              "      <td>0</td>\n",
              "      <td>Host-Based</td>\n",
              "      <td>Telemetry</td>\n",
              "      <td>Technique</td>\n",
              "    </tr>\n",
              "    <tr>\n",
              "      <th>52</th>\n",
              "      <td>17.A.1</td>\n",
              "      <td>[General, Telemetry]</td>\n",
              "      <td>0</td>\n",
              "      <td>Host-Based</td>\n",
              "      <td>General</td>\n",
              "      <td>Telemetry</td>\n",
              "    </tr>\n",
              "    <tr>\n",
              "      <th>60</th>\n",
              "      <td>20.A.1</td>\n",
              "      <td>[Technique, Telemetry]</td>\n",
              "      <td>0</td>\n",
              "      <td>Host-Based</td>\n",
              "      <td>Technique</td>\n",
              "      <td>Telemetry</td>\n",
              "    </tr>\n",
              "    <tr>\n",
              "      <th>62</th>\n",
              "      <td>20.B.1</td>\n",
              "      <td>[Technique, Telemetry]</td>\n",
              "      <td>0</td>\n",
              "      <td>Host-Based</td>\n",
              "      <td>Technique</td>\n",
              "      <td>Telemetry</td>\n",
              "    </tr>\n",
              "    <tr>\n",
              "      <th>66</th>\n",
              "      <td>20.C.1</td>\n",
              "      <td>[Technique, Telemetry]</td>\n",
              "      <td>0</td>\n",
              "      <td>Host-Based</td>\n",
              "      <td>Technique</td>\n",
              "      <td>Telemetry</td>\n",
              "    </tr>\n",
              "    <tr>\n",
              "      <th>69</th>\n",
              "      <td>20.D.1</td>\n",
              "      <td>[Technique, Telemetry]</td>\n",
              "      <td>0</td>\n",
              "      <td>Host-Based</td>\n",
              "      <td>Technique</td>\n",
              "      <td>Telemetry</td>\n",
              "    </tr>\n",
              "    <tr>\n",
              "      <th>71</th>\n",
              "      <td>21.E.1</td>\n",
              "      <td>[Technique, Telemetry]</td>\n",
              "      <td>0</td>\n",
              "      <td>Host-Based</td>\n",
              "      <td>Technique</td>\n",
              "      <td>Telemetry</td>\n",
              "    </tr>\n",
              "    <tr>\n",
              "      <th>73</th>\n",
              "      <td>21.F.1</td>\n",
              "      <td>[Telemetry, Technique]</td>\n",
              "      <td>0</td>\n",
              "      <td>Host-Based</td>\n",
              "      <td>Telemetry</td>\n",
              "      <td>Technique</td>\n",
              "    </tr>\n",
              "    <tr>\n",
              "      <th>75</th>\n",
              "      <td>22.A.1</td>\n",
              "      <td>[Telemetry, Technique]</td>\n",
              "      <td>0</td>\n",
              "      <td>Host-Based</td>\n",
              "      <td>Telemetry</td>\n",
              "      <td>Technique</td>\n",
              "    </tr>\n",
              "    <tr>\n",
              "      <th>77</th>\n",
              "      <td>22.B.1</td>\n",
              "      <td>[Technique, Telemetry]</td>\n",
              "      <td>0</td>\n",
              "      <td>Host-Based</td>\n",
              "      <td>Technique</td>\n",
              "      <td>Telemetry</td>\n",
              "    </tr>\n",
              "    <tr>\n",
              "      <th>83</th>\n",
              "      <td>24.A.1</td>\n",
              "      <td>[Telemetry, Technique]</td>\n",
              "      <td>0</td>\n",
              "      <td>Host-Based</td>\n",
              "      <td>Telemetry</td>\n",
              "      <td>Technique</td>\n",
              "    </tr>\n",
              "    <tr>\n",
              "      <th>85</th>\n",
              "      <td>24.B.1</td>\n",
              "      <td>[Telemetry, Technique]</td>\n",
              "      <td>0</td>\n",
              "      <td>Host-Based</td>\n",
              "      <td>Telemetry</td>\n",
              "      <td>Technique</td>\n",
              "    </tr>\n",
              "    <tr>\n",
              "      <th>89</th>\n",
              "      <td>24.C.1</td>\n",
              "      <td>[Telemetry, Technique]</td>\n",
              "      <td>0</td>\n",
              "      <td>Host-Based</td>\n",
              "      <td>Telemetry</td>\n",
              "      <td>Technique</td>\n",
              "    </tr>\n",
              "    <tr>\n",
              "      <th>93</th>\n",
              "      <td>25.D.2</td>\n",
              "      <td>[General, Telemetry]</td>\n",
              "      <td>0</td>\n",
              "      <td>Host-Based</td>\n",
              "      <td>General</td>\n",
              "      <td>Telemetry</td>\n",
              "    </tr>\n",
              "    <tr>\n",
              "      <th>94</th>\n",
              "      <td>25.E.1</td>\n",
              "      <td>[Technique, Telemetry]</td>\n",
              "      <td>0</td>\n",
              "      <td>Host-Based</td>\n",
              "      <td>Technique</td>\n",
              "      <td>Telemetry</td>\n",
              "    </tr>\n",
              "    <tr>\n",
              "      <th>98</th>\n",
              "      <td>25.G.1</td>\n",
              "      <td>[Technique, Telemetry]</td>\n",
              "      <td>0</td>\n",
              "      <td>Host-Based</td>\n",
              "      <td>Technique</td>\n",
              "      <td>Telemetry</td>\n",
              "    </tr>\n",
              "  </tbody>\n",
              "</table>\n",
              "</div>"
            ],
            "text/plain": [
              "   Substep          Detection_Type  ...  Detection_Type_1 Detection_Type_2\n",
              "4    4.A.1    [General, Telemetry]  ...           General        Telemetry\n",
              "9    6.A.1  [Telemetry, Technique]  ...         Telemetry        Technique\n",
              "10   6.B.1     [Telemetry, Tactic]  ...         Telemetry           Tactic\n",
              "11   6.C.1  [Telemetry, Technique]  ...         Telemetry        Technique\n",
              "16   7.A.2    [Telemetry, General]  ...         Telemetry          General\n",
              "18   7.B.2    [Telemetry, General]  ...         Telemetry          General\n",
              "20   9.A.1  [Technique, Telemetry]  ...         Technique        Telemetry\n",
              "22   9.B.1  [Telemetry, Technique]  ...         Telemetry        Technique\n",
              "24   9.C.1  [Technique, Telemetry]  ...         Technique        Telemetry\n",
              "26   9.D.1  [Technique, Telemetry]  ...         Technique        Telemetry\n",
              "28   9.E.1  [Technique, Telemetry]  ...         Technique        Telemetry\n",
              "33  10.B.2    [Telemetry, General]  ...         Telemetry          General\n",
              "35  11.B.1  [Telemetry, Technique]  ...         Telemetry        Technique\n",
              "36  11.C.1  [Technique, Telemetry]  ...         Technique        Telemetry\n",
              "40  14.A.1    [Telemetry, General]  ...         Telemetry          General\n",
              "41  14.B.1    [General, Telemetry]  ...           General        Telemetry\n",
              "43  15.A.2    [General, Telemetry]  ...           General        Telemetry\n",
              "44  16.A.1  [Technique, Telemetry]  ...         Technique        Telemetry\n",
              "46  16.B.1  [Telemetry, Technique]  ...         Telemetry        Technique\n",
              "48  16.C.1  [Technique, Telemetry]  ...         Technique        Telemetry\n",
              "50  16.D.1  [Telemetry, Technique]  ...         Telemetry        Technique\n",
              "52  17.A.1    [General, Telemetry]  ...           General        Telemetry\n",
              "60  20.A.1  [Technique, Telemetry]  ...         Technique        Telemetry\n",
              "62  20.B.1  [Technique, Telemetry]  ...         Technique        Telemetry\n",
              "66  20.C.1  [Technique, Telemetry]  ...         Technique        Telemetry\n",
              "69  20.D.1  [Technique, Telemetry]  ...         Technique        Telemetry\n",
              "71  21.E.1  [Technique, Telemetry]  ...         Technique        Telemetry\n",
              "73  21.F.1  [Telemetry, Technique]  ...         Telemetry        Technique\n",
              "75  22.A.1  [Telemetry, Technique]  ...         Telemetry        Technique\n",
              "77  22.B.1  [Technique, Telemetry]  ...         Technique        Telemetry\n",
              "83  24.A.1  [Telemetry, Technique]  ...         Telemetry        Technique\n",
              "85  24.B.1  [Telemetry, Technique]  ...         Telemetry        Technique\n",
              "89  24.C.1  [Telemetry, Technique]  ...         Telemetry        Technique\n",
              "93  25.D.2    [General, Telemetry]  ...           General        Telemetry\n",
              "94  25.E.1  [Technique, Telemetry]  ...         Technique        Telemetry\n",
              "98  25.G.1  [Technique, Telemetry]  ...         Technique        Telemetry\n",
              "\n",
              "[36 rows x 6 columns]"
            ]
          },
          "metadata": {
            "tags": []
          },
          "execution_count": 13
        }
      ]
    },
    {
      "cell_type": "code",
      "metadata": {
        "id": "0UJQbojV82l2"
      },
      "source": [
        "com_analytic['source'].value_counts()"
      ],
      "execution_count": null,
      "outputs": []
    },
    {
      "cell_type": "code",
      "metadata": {
        "colab": {
          "base_uri": "https://localhost:8080/"
        },
        "id": "cNH2C_eGLDe1",
        "outputId": "1b84a412-f7e3-4cae-ac2c-8faea53253a2"
      },
      "source": [
        "com_noanalytic = com_sub[(com_sub['Detection_Type_1'] != 'Technique') & (com_sub['Detection_Type_1'] != 'Tactic') & (com_sub['Detection_Type_1'] != 'General')&(com_sub['Detection_Type_2'] != 'Technique') & (com_sub['Detection_Type_2'] != 'Tactic') & (com_sub['Detection_Type_2'] != 'General')]\n",
        "com_noanalytic['source'].value_counts()"
      ],
      "execution_count": null,
      "outputs": [
        {
          "output_type": "execute_result",
          "data": {
            "text/plain": [
              "Network SPAN    21\n",
              "Host-Based      16\n",
              "PLC log          2\n",
              "Name: source, dtype: int64"
            ]
          },
          "metadata": {
            "tags": []
          },
          "execution_count": 44
        }
      ]
    },
    {
      "cell_type": "code",
      "metadata": {
        "colab": {
          "base_uri": "https://localhost:8080/"
        },
        "id": "MIAdm2f86Z9Z",
        "outputId": "427a6269-2c27-4a63-9acd-9338840b926f"
      },
      "source": [
        " list(com_sub['Detection_Type_1']) + list(com_sub['Detection_Type_2'])"
      ],
      "execution_count": null,
      "outputs": [
        {
          "output_type": "execute_result",
          "data": {
            "text/plain": [
              "['Telemetry',\n",
              " 'Telemetry',\n",
              " 'Telemetry',\n",
              " 'Telemetry',\n",
              " 'Telemetry',\n",
              " 'Telemetry',\n",
              " 'Telemetry',\n",
              " 'Telemetry',\n",
              " 'Telemetry',\n",
              " 'Telemetry',\n",
              " 'Telemetry',\n",
              " 'Telemetry',\n",
              " 'Telemetry',\n",
              " 'Telemetry',\n",
              " 'Telemetry',\n",
              " 'Telemetry',\n",
              " 'Telemetry',\n",
              " 'Telemetry',\n",
              " 'Telemetry',\n",
              " 'Telemetry',\n",
              " 'Telemetry',\n",
              " 'Telemetry',\n",
              " 'Telemetry',\n",
              " 'General',\n",
              " 'Telemetry',\n",
              " 'Telemetry',\n",
              " 'Telemetry',\n",
              " 'Telemetry',\n",
              " 'Telemetry',\n",
              " 'General',\n",
              " 'Telemetry',\n",
              " 'Telemetry',\n",
              " 'General',\n",
              " 'Telemetry',\n",
              " 'Telemetry',\n",
              " 'Telemetry',\n",
              " 'Telemetry',\n",
              " 'Telemetry',\n",
              " 'Telemetry',\n",
              " 'Technique',\n",
              " 'Telemetry',\n",
              " 'None',\n",
              " 'Telemetry',\n",
              " 'Telemetry',\n",
              " 'Telemetry',\n",
              " 'Telemetry',\n",
              " 'Telemetry',\n",
              " 'Telemetry',\n",
              " 'Telemetry',\n",
              " 'General',\n",
              " 'Telemetry',\n",
              " 'General',\n",
              " 'Telemetry',\n",
              " 'Telemetry',\n",
              " 'Telemetry',\n",
              " 'Telemetry',\n",
              " 'Telemetry',\n",
              " 'Telemetry',\n",
              " 'Telemetry',\n",
              " 'None',\n",
              " 'Telemetry',\n",
              " 'Telemetry',\n",
              " 'Telemetry',\n",
              " 'Technique',\n",
              " 'Telemetry',\n",
              " 'N/A',\n",
              " 'Telemetry',\n",
              " 'General',\n",
              " 'General',\n",
              " 'Telemetry',\n",
              " 'Telemetry',\n",
              " 'Telemetry',\n",
              " 'Telemetry',\n",
              " 'Telemetry',\n",
              " 'Telemetry',\n",
              " 'None',\n",
              " 'None',\n",
              " 'Telemetry',\n",
              " 'Telemetry',\n",
              " 'Telemetry',\n",
              " 'Telemetry',\n",
              " 'Telemetry',\n",
              " 'Telemetry',\n",
              " 'Telemetry',\n",
              " 'Telemetry',\n",
              " 'Telemetry',\n",
              " 'Telemetry',\n",
              " 'Tactic',\n",
              " 'N/A',\n",
              " 'Telemetry',\n",
              " 'Telemetry',\n",
              " 'General',\n",
              " 'Telemetry',\n",
              " 'Telemetry',\n",
              " 'Telemetry',\n",
              " 'Telemetry',\n",
              " 'Telemetry',\n",
              " 'General',\n",
              " 'Telemetry',\n",
              " 'General',\n",
              " 'General',\n",
              " 'Telemetry',\n",
              " '',\n",
              " '',\n",
              " 'Technique',\n",
              " '',\n",
              " '',\n",
              " '',\n",
              " '',\n",
              " '',\n",
              " '',\n",
              " '',\n",
              " '',\n",
              " '',\n",
              " '',\n",
              " '',\n",
              " '',\n",
              " '',\n",
              " '',\n",
              " '',\n",
              " '',\n",
              " '',\n",
              " '',\n",
              " 'General',\n",
              " '',\n",
              " 'Telemetry',\n",
              " '',\n",
              " 'General',\n",
              " '',\n",
              " 'General',\n",
              " '',\n",
              " 'Telemetry',\n",
              " '',\n",
              " '',\n",
              " 'Telemetry',\n",
              " '',\n",
              " '',\n",
              " '',\n",
              " '',\n",
              " '',\n",
              " '',\n",
              " 'Telemetry',\n",
              " '',\n",
              " '',\n",
              " '',\n",
              " '',\n",
              " '',\n",
              " 'General',\n",
              " '',\n",
              " 'General',\n",
              " '',\n",
              " 'Telemetry',\n",
              " '',\n",
              " 'Telemetry',\n",
              " '',\n",
              " '',\n",
              " '',\n",
              " '',\n",
              " '',\n",
              " 'General',\n",
              " '',\n",
              " '',\n",
              " '',\n",
              " 'General',\n",
              " '',\n",
              " 'Telemetry',\n",
              " 'Tactic',\n",
              " '',\n",
              " '',\n",
              " 'Telemetry',\n",
              " 'Telemetry',\n",
              " '',\n",
              " 'General',\n",
              " '',\n",
              " 'General',\n",
              " '',\n",
              " 'General',\n",
              " '',\n",
              " '',\n",
              " '',\n",
              " 'Tactic',\n",
              " '',\n",
              " '',\n",
              " '',\n",
              " '',\n",
              " '',\n",
              " 'General',\n",
              " '',\n",
              " 'Technique',\n",
              " 'Telemetry',\n",
              " '',\n",
              " '',\n",
              " 'General',\n",
              " 'Telemetry',\n",
              " '',\n",
              " '',\n",
              " '',\n",
              " 'General',\n",
              " 'General',\n",
              " 'Telemetry',\n",
              " '',\n",
              " 'Telemetry',\n",
              " 'Telemetry',\n",
              " 'General']"
            ]
          },
          "metadata": {
            "tags": []
          },
          "execution_count": 14
        }
      ]
    },
    {
      "cell_type": "code",
      "metadata": {
        "id": "IkggSA_szcNW",
        "colab": {
          "base_uri": "https://localhost:8080/",
          "height": 414
        },
        "outputId": "ab6deb65-e0f0-490f-b8fa-07598a371492"
      },
      "source": [
        "com_subt"
      ],
      "execution_count": null,
      "outputs": [
        {
          "output_type": "execute_result",
          "data": {
            "text/html": [
              "<div>\n",
              "<style scoped>\n",
              "    .dataframe tbody tr th:only-of-type {\n",
              "        vertical-align: middle;\n",
              "    }\n",
              "\n",
              "    .dataframe tbody tr th {\n",
              "        vertical-align: top;\n",
              "    }\n",
              "\n",
              "    .dataframe thead th {\n",
              "        text-align: right;\n",
              "    }\n",
              "</style>\n",
              "<table border=\"1\" class=\"dataframe\">\n",
              "  <thead>\n",
              "    <tr style=\"text-align: right;\">\n",
              "      <th></th>\n",
              "      <th>Substep</th>\n",
              "      <th>Detection_Type</th>\n",
              "      <th>Substep_source</th>\n",
              "      <th>source</th>\n",
              "      <th>Detection_Type_1</th>\n",
              "      <th>Detection_Type_2</th>\n",
              "    </tr>\n",
              "  </thead>\n",
              "  <tbody>\n",
              "    <tr>\n",
              "      <th>0</th>\n",
              "      <td>1.A.1</td>\n",
              "      <td>[Telemetry, General]</td>\n",
              "      <td>0</td>\n",
              "      <td>Network SPAN</td>\n",
              "      <td>Telemetry</td>\n",
              "      <td>General</td>\n",
              "    </tr>\n",
              "    <tr>\n",
              "      <th>1</th>\n",
              "      <td>1.A.2</td>\n",
              "      <td>[N/A]</td>\n",
              "      <td>0</td>\n",
              "      <td>Host-Based</td>\n",
              "      <td>N/A</td>\n",
              "      <td></td>\n",
              "    </tr>\n",
              "    <tr>\n",
              "      <th>2</th>\n",
              "      <td>2.B.1</td>\n",
              "      <td>[Telemetry, Technique]</td>\n",
              "      <td>0</td>\n",
              "      <td>Network SPAN</td>\n",
              "      <td>Telemetry</td>\n",
              "      <td>Technique</td>\n",
              "    </tr>\n",
              "    <tr>\n",
              "      <th>3</th>\n",
              "      <td>3.A.1</td>\n",
              "      <td>[N/A]</td>\n",
              "      <td>0</td>\n",
              "      <td>Host-Based</td>\n",
              "      <td>N/A</td>\n",
              "      <td></td>\n",
              "    </tr>\n",
              "    <tr>\n",
              "      <th>4</th>\n",
              "      <td>4.A.1</td>\n",
              "      <td>[N/A]</td>\n",
              "      <td>0</td>\n",
              "      <td>Host-Based</td>\n",
              "      <td>N/A</td>\n",
              "      <td></td>\n",
              "    </tr>\n",
              "    <tr>\n",
              "      <th>...</th>\n",
              "      <td>...</td>\n",
              "      <td>...</td>\n",
              "      <td>...</td>\n",
              "      <td>...</td>\n",
              "      <td>...</td>\n",
              "      <td>...</td>\n",
              "    </tr>\n",
              "    <tr>\n",
              "      <th>97</th>\n",
              "      <td>25.F.1</td>\n",
              "      <td>[None]</td>\n",
              "      <td>0</td>\n",
              "      <td>Network SPAN</td>\n",
              "      <td>None</td>\n",
              "      <td></td>\n",
              "    </tr>\n",
              "    <tr>\n",
              "      <th>98</th>\n",
              "      <td>25.G.1</td>\n",
              "      <td>[N/A]</td>\n",
              "      <td>0</td>\n",
              "      <td>Host-Based</td>\n",
              "      <td>N/A</td>\n",
              "      <td></td>\n",
              "    </tr>\n",
              "    <tr>\n",
              "      <th>99</th>\n",
              "      <td>25.G.2</td>\n",
              "      <td>[Telemetry, Technique]</td>\n",
              "      <td>0</td>\n",
              "      <td>Network SPAN</td>\n",
              "      <td>Telemetry</td>\n",
              "      <td>Technique</td>\n",
              "    </tr>\n",
              "    <tr>\n",
              "      <th>100</th>\n",
              "      <td>25.G.3</td>\n",
              "      <td>[Telemetry]</td>\n",
              "      <td>0</td>\n",
              "      <td>Network SPAN</td>\n",
              "      <td>Telemetry</td>\n",
              "      <td></td>\n",
              "    </tr>\n",
              "    <tr>\n",
              "      <th>101</th>\n",
              "      <td>25.G.4</td>\n",
              "      <td>[Telemetry, General]</td>\n",
              "      <td>0</td>\n",
              "      <td>Network SPAN</td>\n",
              "      <td>Telemetry</td>\n",
              "      <td>General</td>\n",
              "    </tr>\n",
              "  </tbody>\n",
              "</table>\n",
              "<p>102 rows × 6 columns</p>\n",
              "</div>"
            ],
            "text/plain": [
              "    Substep          Detection_Type  ...  Detection_Type_1 Detection_Type_2\n",
              "0     1.A.1    [Telemetry, General]  ...         Telemetry          General\n",
              "1     1.A.2                   [N/A]  ...               N/A                 \n",
              "2     2.B.1  [Telemetry, Technique]  ...         Telemetry        Technique\n",
              "3     3.A.1                   [N/A]  ...               N/A                 \n",
              "4     4.A.1                   [N/A]  ...               N/A                 \n",
              "..      ...                     ...  ...               ...              ...\n",
              "97   25.F.1                  [None]  ...              None                 \n",
              "98   25.G.1                   [N/A]  ...               N/A                 \n",
              "99   25.G.2  [Telemetry, Technique]  ...         Telemetry        Technique\n",
              "100  25.G.3             [Telemetry]  ...         Telemetry                 \n",
              "101  25.G.4    [Telemetry, General]  ...         Telemetry          General\n",
              "\n",
              "[102 rows x 6 columns]"
            ]
          },
          "metadata": {
            "tags": []
          },
          "execution_count": 74
        }
      ]
    },
    {
      "cell_type": "markdown",
      "metadata": {
        "id": "hc0vnHqAcP65"
      },
      "source": [
        "## dragos [65] [88]"
      ]
    },
    {
      "cell_type": "code",
      "metadata": {
        "id": "olsJHHZWdvr6",
        "colab": {
          "base_uri": "https://localhost:8080/",
          "height": 71
        },
        "outputId": "3fe6a10e-bd01-4623-d8bb-0438985eccab"
      },
      "source": [
        "dlists = []\n",
        "i = 0\n",
        "for dtype in ddf_sub['Detection_Type']:\n",
        "  if dtype == 'N/A':\n",
        "    dlists.append('PLC log')\n",
        "    \n",
        "    print(i)\n",
        "  else:\n",
        "    dlists.append(0)\n",
        "  i += 1\n",
        "\n",
        "dlists[65]\n",
        "dlists[88]\n"
      ],
      "execution_count": null,
      "outputs": [
        {
          "output_type": "stream",
          "text": [
            "65\n",
            "88\n"
          ],
          "name": "stdout"
        },
        {
          "output_type": "execute_result",
          "data": {
            "application/vnd.google.colaboratory.intrinsic+json": {
              "type": "string"
            },
            "text/plain": [
              "'PLC log'"
            ]
          },
          "metadata": {
            "tags": []
          },
          "execution_count": 25
        }
      ]
    },
    {
      "cell_type": "markdown",
      "metadata": {
        "id": "yNdhx_x3pUG-"
      },
      "source": [
        "## sub"
      ]
    },
    {
      "cell_type": "code",
      "metadata": {
        "colab": {
          "base_uri": "https://localhost:8080/"
        },
        "id": "xr5FNoF6yD7_",
        "outputId": "f83ff91c-c0a0-4d73-f99f-fa08bb2b9af3"
      },
      "source": [
        "com_sub['source'] = clists"
      ],
      "execution_count": null,
      "outputs": [
        {
          "output_type": "stream",
          "text": [
            "/usr/local/lib/python3.7/dist-packages/ipykernel_launcher.py:1: SettingWithCopyWarning: \n",
            "A value is trying to be set on a copy of a slice from a DataFrame.\n",
            "Try using .loc[row_indexer,col_indexer] = value instead\n",
            "\n",
            "See the caveats in the documentation: https://pandas.pydata.org/pandas-docs/stable/user_guide/indexing.html#returning-a-view-versus-a-copy\n",
            "  \"\"\"Entry point for launching an IPython kernel.\n"
          ],
          "name": "stderr"
        }
      ]
    },
    {
      "cell_type": "code",
      "metadata": {
        "colab": {
          "base_uri": "https://localhost:8080/"
        },
        "id": "-Ck49cR5e6zc",
        "outputId": "9d59d8b5-76b9-4fec-9a3f-6f9fb64141b9"
      },
      "source": [
        "com_sub['Detection_Type']"
      ],
      "execution_count": null,
      "outputs": [
        {
          "output_type": "execute_result",
          "data": {
            "text/plain": [
              "0      [Telemetry, Technique]\n",
              "1                 [Telemetry]\n",
              "2      [Telemetry, Technique]\n",
              "3                 [Telemetry]\n",
              "4        [General, Telemetry]\n",
              "                ...          \n",
              "97                [Telemetry]\n",
              "98     [Technique, Telemetry]\n",
              "99                [Telemetry]\n",
              "100               [Telemetry]\n",
              "101      [General, Telemetry]\n",
              "Name: Detection_Type, Length: 102, dtype: object"
            ]
          },
          "metadata": {
            "tags": []
          },
          "execution_count": 7
        }
      ]
    },
    {
      "cell_type": "code",
      "metadata": {
        "colab": {
          "base_uri": "https://localhost:8080/"
        },
        "id": "vynWmN1lqL6O",
        "outputId": "b014cceb-5e37-4101-8d9a-c519864b97d7"
      },
      "source": [
        "# strip 出column from list\n",
        "list1 = []\n",
        "list2 = []\n",
        "for i in com_sub['Detection_Type']:\n",
        "  \n",
        "  if len(i) ==2:\n",
        "    list1.append(i[0])\n",
        "    list2.append(i[1])\n",
        "  else:\n",
        "    list1.append(i[0])\n",
        "    list2.append('')\n",
        "com_sub['Detection_Type_1'] = list1\n",
        "com_sub['Detection_Type_2'] = list2\n",
        "\n",
        "\n",
        "\n",
        "# 兩col 統計加總\n",
        "total_tech = com_sub['Detection_Type_1'].value_counts() + com_sub['Detection_Type_2'].value_counts()\n",
        "total_tech['N/A'] = com_sub['Detection_Type_1'].value_counts()['N/A']\n",
        "total_tech['None'] = com_sub['Detection_Type_1'].value_counts()['None']\n",
        "total_tech\n",
        "\n",
        "\n"
      ],
      "execution_count": null,
      "outputs": [
        {
          "output_type": "stream",
          "text": [
            "/usr/local/lib/python3.7/dist-packages/ipykernel_launcher.py:12: SettingWithCopyWarning: \n",
            "A value is trying to be set on a copy of a slice from a DataFrame.\n",
            "Try using .loc[row_indexer,col_indexer] = value instead\n",
            "\n",
            "See the caveats in the documentation: https://pandas.pydata.org/pandas-docs/stable/user_guide/indexing.html#returning-a-view-versus-a-copy\n",
            "  if sys.path[0] == '':\n",
            "/usr/local/lib/python3.7/dist-packages/ipykernel_launcher.py:13: SettingWithCopyWarning: \n",
            "A value is trying to be set on a copy of a slice from a DataFrame.\n",
            "Try using .loc[row_indexer,col_indexer] = value instead\n",
            "\n",
            "See the caveats in the documentation: https://pandas.pydata.org/pandas-docs/stable/user_guide/indexing.html#returning-a-view-versus-a-copy\n",
            "  del sys.path[0]\n"
          ],
          "name": "stderr"
        },
        {
          "output_type": "execute_result",
          "data": {
            "text/plain": [
              "              NaN\n",
              "General      23.0\n",
              "N/A           2.0\n",
              "None          7.0\n",
              "Tactic        NaN\n",
              "Technique    39.0\n",
              "Telemetry    93.0\n",
              "dtype: float64"
            ]
          },
          "metadata": {
            "tags": []
          },
          "execution_count": 8
        }
      ]
    },
    {
      "cell_type": "code",
      "metadata": {
        "colab": {
          "base_uri": "https://localhost:8080/",
          "height": 414
        },
        "id": "CK-Xt0SauntR",
        "outputId": "3127722a-4122-4ca0-9760-3922f5d7f2ee"
      },
      "source": [
        "com_sub"
      ],
      "execution_count": null,
      "outputs": [
        {
          "output_type": "execute_result",
          "data": {
            "text/html": [
              "<div>\n",
              "<style scoped>\n",
              "    .dataframe tbody tr th:only-of-type {\n",
              "        vertical-align: middle;\n",
              "    }\n",
              "\n",
              "    .dataframe tbody tr th {\n",
              "        vertical-align: top;\n",
              "    }\n",
              "\n",
              "    .dataframe thead th {\n",
              "        text-align: right;\n",
              "    }\n",
              "</style>\n",
              "<table border=\"1\" class=\"dataframe\">\n",
              "  <thead>\n",
              "    <tr style=\"text-align: right;\">\n",
              "      <th></th>\n",
              "      <th>Substep</th>\n",
              "      <th>Detection_Type</th>\n",
              "      <th>Substep_source</th>\n",
              "      <th>Detection_Type_1</th>\n",
              "      <th>Detection_Type_2</th>\n",
              "    </tr>\n",
              "  </thead>\n",
              "  <tbody>\n",
              "    <tr>\n",
              "      <th>0</th>\n",
              "      <td>1.A.1</td>\n",
              "      <td>[Telemetry, General]</td>\n",
              "      <td>0</td>\n",
              "      <td>Telemetry</td>\n",
              "      <td>General</td>\n",
              "    </tr>\n",
              "    <tr>\n",
              "      <th>1</th>\n",
              "      <td>1.A.2</td>\n",
              "      <td>[N/A]</td>\n",
              "      <td>0</td>\n",
              "      <td>N/A</td>\n",
              "      <td></td>\n",
              "    </tr>\n",
              "    <tr>\n",
              "      <th>2</th>\n",
              "      <td>2.B.1</td>\n",
              "      <td>[Telemetry, Technique]</td>\n",
              "      <td>0</td>\n",
              "      <td>Telemetry</td>\n",
              "      <td>Technique</td>\n",
              "    </tr>\n",
              "    <tr>\n",
              "      <th>3</th>\n",
              "      <td>3.A.1</td>\n",
              "      <td>[N/A]</td>\n",
              "      <td>0</td>\n",
              "      <td>N/A</td>\n",
              "      <td></td>\n",
              "    </tr>\n",
              "    <tr>\n",
              "      <th>4</th>\n",
              "      <td>4.A.1</td>\n",
              "      <td>[N/A]</td>\n",
              "      <td>0</td>\n",
              "      <td>N/A</td>\n",
              "      <td></td>\n",
              "    </tr>\n",
              "    <tr>\n",
              "      <th>...</th>\n",
              "      <td>...</td>\n",
              "      <td>...</td>\n",
              "      <td>...</td>\n",
              "      <td>...</td>\n",
              "      <td>...</td>\n",
              "    </tr>\n",
              "    <tr>\n",
              "      <th>97</th>\n",
              "      <td>25.F.1</td>\n",
              "      <td>[None]</td>\n",
              "      <td>0</td>\n",
              "      <td>None</td>\n",
              "      <td></td>\n",
              "    </tr>\n",
              "    <tr>\n",
              "      <th>98</th>\n",
              "      <td>25.G.1</td>\n",
              "      <td>[N/A]</td>\n",
              "      <td>0</td>\n",
              "      <td>N/A</td>\n",
              "      <td></td>\n",
              "    </tr>\n",
              "    <tr>\n",
              "      <th>99</th>\n",
              "      <td>25.G.2</td>\n",
              "      <td>[Telemetry, Technique]</td>\n",
              "      <td>0</td>\n",
              "      <td>Telemetry</td>\n",
              "      <td>Technique</td>\n",
              "    </tr>\n",
              "    <tr>\n",
              "      <th>100</th>\n",
              "      <td>25.G.3</td>\n",
              "      <td>[Telemetry]</td>\n",
              "      <td>0</td>\n",
              "      <td>Telemetry</td>\n",
              "      <td></td>\n",
              "    </tr>\n",
              "    <tr>\n",
              "      <th>101</th>\n",
              "      <td>25.G.4</td>\n",
              "      <td>[Telemetry, General]</td>\n",
              "      <td>0</td>\n",
              "      <td>Telemetry</td>\n",
              "      <td>General</td>\n",
              "    </tr>\n",
              "  </tbody>\n",
              "</table>\n",
              "<p>102 rows × 5 columns</p>\n",
              "</div>"
            ],
            "text/plain": [
              "    Substep          Detection_Type  ...  Detection_Type_1 Detection_Type_2\n",
              "0     1.A.1    [Telemetry, General]  ...         Telemetry          General\n",
              "1     1.A.2                   [N/A]  ...               N/A                 \n",
              "2     2.B.1  [Telemetry, Technique]  ...         Telemetry        Technique\n",
              "3     3.A.1                   [N/A]  ...               N/A                 \n",
              "4     4.A.1                   [N/A]  ...               N/A                 \n",
              "..      ...                     ...  ...               ...              ...\n",
              "97   25.F.1                  [None]  ...              None                 \n",
              "98   25.G.1                   [N/A]  ...               N/A                 \n",
              "99   25.G.2  [Telemetry, Technique]  ...         Telemetry        Technique\n",
              "100  25.G.3             [Telemetry]  ...         Telemetry                 \n",
              "101  25.G.4    [Telemetry, General]  ...         Telemetry          General\n",
              "\n",
              "[102 rows x 5 columns]"
            ]
          },
          "metadata": {
            "tags": []
          },
          "execution_count": 57
        }
      ]
    },
    {
      "cell_type": "code",
      "metadata": {
        "colab": {
          "base_uri": "https://localhost:8080/"
        },
        "id": "FVINp16Wuvmh",
        "outputId": "ba95efde-f150-48da-cb74-a90b87ad2d90"
      },
      "source": [
        "print(com_sub['Detection_Type_1'].value_counts())\n",
        "print(com_sub['Detection_Type_2'].value_counts())"
      ],
      "execution_count": null,
      "outputs": [
        {
          "output_type": "stream",
          "text": [
            "Telemetry    82\n",
            "General      11\n",
            "None          4\n",
            "Technique     2\n",
            "N/A           2\n",
            "Tactic        1\n",
            "Name: Detection_Type_1, dtype: int64\n",
            "             69\n",
            "General      15\n",
            "Telemetry    14\n",
            "Technique     2\n",
            "Tactic        2\n",
            "Name: Detection_Type_2, dtype: int64\n"
          ],
          "name": "stdout"
        }
      ]
    },
    {
      "cell_type": "code",
      "metadata": {
        "colab": {
          "base_uri": "https://localhost:8080/"
        },
        "id": "T0dv1Y8XvVWH",
        "outputId": "1d9b581b-251b-4cee-ec44-1bbff25543c6"
      },
      "source": [
        "# 兩col 相加再一起\n",
        "total_tech = com_sub['Detection_Type_1'].value_counts() + com_sub['Detection_Type_2'].value_counts()\n",
        "total_tech['N/A'] = com_sub['Detection_Type_1'].value_counts()['N/A']\n",
        "total_tech['None'] = com_sub['Detection_Type_1'].value_counts()['None']\n",
        "total_tech"
      ],
      "execution_count": null,
      "outputs": [
        {
          "output_type": "execute_result",
          "data": {
            "text/plain": [
              "              NaN\n",
              "General      16.0\n",
              "N/A          52.0\n",
              "None          5.0\n",
              "Technique     9.0\n",
              "Telemetry    45.0\n",
              "dtype: float64"
            ]
          },
          "metadata": {
            "tags": []
          },
          "execution_count": 65
        }
      ]
    },
    {
      "cell_type": "code",
      "metadata": {
        "colab": {
          "base_uri": "https://localhost:8080/"
        },
        "id": "NUPJFl78mhpC",
        "outputId": "63b4bb48-0609-4705-b19a-a90b8727d0c5"
      },
      "source": [
        "com_analytic = com_sub[(com_sub['Detection_Type_1'] == 'Technique') | (com_sub['Detection_Type_1'] == 'tactic') | (com_sub['Detection_Type_1'] == 'General')|(com_sub['Detection_Type_2'] == 'Technique') | (com_sub['Detection_Type_2'] == 'tactic') | (com_sub['Detection_Type_2'] == 'General')]\n",
        "com_analytic['source'].value_counts()"
      ],
      "execution_count": null,
      "outputs": [
        {
          "output_type": "execute_result",
          "data": {
            "text/plain": [
              "Network SPAN    25\n",
              "Name: source, dtype: int64"
            ]
          },
          "metadata": {
            "tags": []
          },
          "execution_count": 71
        }
      ]
    },
    {
      "cell_type": "code",
      "metadata": {
        "id": "NMphLphJpmsr"
      },
      "source": [
        "# iii = parsing_json_()\n",
        "# iii.statistic()\n",
        "# iii.pie()\n",
        "# iii.counts() \n",
        "# iii.df"
      ],
      "execution_count": null,
      "outputs": []
    },
    {
      "cell_type": "code",
      "metadata": {
        "id": "-THDt56orS6E"
      },
      "source": [
        "# claroty = parsing_json_()\n",
        "# claroty.statistic()\n",
        "# claroty.pie()\n",
        "# claroty.counts() "
      ],
      "execution_count": null,
      "outputs": []
    },
    {
      "cell_type": "code",
      "metadata": {
        "id": "yLAKoeE1rSuT"
      },
      "source": [
        "# dragos = parsing_json_()\n",
        "# dragos.statistic()\n",
        "# dragos.pie()\n",
        "# dragos.counts() "
      ],
      "execution_count": null,
      "outputs": []
    },
    {
      "cell_type": "code",
      "metadata": {
        "id": "CkS6TM63rSjU"
      },
      "source": [
        "# Microsoft = parsing_json_()\n",
        "# Microsoft.statistic()\n",
        "# Microsoft.pie()\n",
        "# Microsoft.counts() "
      ],
      "execution_count": null,
      "outputs": []
    },
    {
      "cell_type": "code",
      "metadata": {
        "id": "NTH_DbCzpjkt"
      },
      "source": [
        "# armis = parsing_json_()\n",
        "# armis.statistic()\n",
        "# armis.pie()\n",
        "# armis.counts() "
      ],
      "execution_count": null,
      "outputs": []
    },
    {
      "cell_type": "code",
      "metadata": {
        "id": "s3vG7QuwHakN"
      },
      "source": [
        ""
      ],
      "execution_count": null,
      "outputs": []
    },
    {
      "cell_type": "code",
      "metadata": {
        "id": "lR3G9g1dH02s"
      },
      "source": [
        ""
      ],
      "execution_count": null,
      "outputs": []
    },
    {
      "cell_type": "code",
      "metadata": {
        "id": "C4-XiPBCH00c"
      },
      "source": [
        ""
      ],
      "execution_count": null,
      "outputs": []
    },
    {
      "cell_type": "code",
      "metadata": {
        "id": "_PSOTwp2H0xl"
      },
      "source": [
        ""
      ],
      "execution_count": null,
      "outputs": []
    },
    {
      "cell_type": "code",
      "metadata": {
        "colab": {
          "base_uri": "https://localhost:8080/"
        },
        "id": "3OHCDasBH0sz",
        "outputId": "8f025bf4-4c82-4b0f-808e-3e8208dc289b"
      },
      "source": [
        "'''dkjsfkl;adjfl;ka jfl;akfjaskldfasdf\n",
        "dpfasdjkfhaskl;fj\n",
        "fas\n",
        "dfasjklfaskldf\n",
        "sdfas\n",
        "dfasdf\n",
        "asdf\n",
        "asd\n",
        "fsd\n",
        "fas\n",
        "dfas\n",
        "dfasdf'''\n",
        "\n",
        "\n",
        "\n",
        "a = 5                                                                                                                                                                                                                                                                                                                                                                                                                                                                                                                                                                                                                                                                                                                                 \n",
        "\n",
        "\n",
        "a+3\n",
        "\n",
        "kdsjfklsdjkldjflksd"
      ],
      "execution_count": 21,
      "outputs": [
        {
          "output_type": "execute_result",
          "data": {
            "text/plain": [
              "8"
            ]
          },
          "metadata": {
            "tags": []
          },
          "execution_count": 21
        }
      ]
    },
    {
      "cell_type": "code",
      "metadata": {
        "id": "VoDbbNIhH_G_"
      },
      "source": [
        ""
      ],
      "execution_count": null,
      "outputs": []
    }
  ]
}